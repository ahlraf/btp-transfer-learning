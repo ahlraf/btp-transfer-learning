{
 "cells": [
  {
   "cell_type": "code",
   "execution_count": 1,
   "id": "d7796177",
   "metadata": {},
   "outputs": [],
   "source": [
    "import numpy as np\n",
    "import pandas as pd"
   ]
  },
  {
   "cell_type": "markdown",
   "id": "568a51fe",
   "metadata": {},
   "source": [
    "### Extracting necessary columns"
   ]
  },
  {
   "cell_type": "code",
   "execution_count": 2,
   "id": "2fda1fb0",
   "metadata": {},
   "outputs": [],
   "source": [
    "import re\n",
    "def get_only_chars(line):\n",
    "#     print(\"\\n\", line)\n",
    "    clean_line = \"\"  \n",
    "    # change this as required!\n",
    "    # line = line.replace(\"’\", \"\")\n",
    "    # line = line.replace(\"'\", \"\")\n",
    "    line = line.replace(\"-\", \" \") #replace hyphens with spaces\n",
    "    line = line.replace(\"\\t\", \" \")\n",
    "    line = line.replace(\"\\n\", \" \")\n",
    "    line = line.lower()\n",
    "    \n",
    "    for char in line:\n",
    "        # can set own range as required.\n",
    "        if char in 'abcdefghijklmnopqrstuvwxyzABCDEFGHIJKLMNOPQRSTUVWXYZ123456789,.?\"\\';:':\n",
    "            clean_line += char\n",
    "        else:\n",
    "            clean_line += ' '\n",
    "\n",
    "    clean_line = re.sub(' +',' ',clean_line) #delete extra spaces\n",
    "    if clean_line[0] == ' ':\n",
    "        clean_line = clean_line[1:]\n",
    "        \n",
    "    return clean_line"
   ]
  },
  {
   "cell_type": "code",
   "execution_count": 3,
   "id": "8f2bb4ab",
   "metadata": {},
   "outputs": [],
   "source": [
    "def clean_df(input_df, output_df):\n",
    "    for idx in input_df.index:\n",
    "        sentence = input_df.loc[idx, \"text\"]\n",
    "        if not sentence or sentence==\"nan\" or type(sentence)!=str:\n",
    "            continue\n",
    "        cleaned_sentence = get_only_chars(sentence)\n",
    "        d = {}\n",
    "        d[\"text\"] = cleaned_sentence\n",
    "        df = pd.DataFrame(d, index=[0])\n",
    "        output_df = pd.concat([output_df, df], ignore_index=True)\n",
    "    return output_df"
   ]
  },
  {
   "cell_type": "code",
   "execution_count": 4,
   "id": "9d9aaa4c",
   "metadata": {},
   "outputs": [],
   "source": [
    "def clean_df2(input_df, output_df):\n",
    "    for idx in input_df.index:\n",
    "        sentence = input_df.loc[idx, \"text\"]\n",
    "        label = input_df.loc[idx, \"label\"]\n",
    "        if not sentence or sentence==\"nan\" or type(sentence)!=str:\n",
    "            continue\n",
    "        cleaned_sentence = get_only_chars(sentence)\n",
    "        d = {}\n",
    "        d[\"text\"] = cleaned_sentence\n",
    "        d[\"label\"] = label\n",
    "        df = pd.DataFrame(d, index=[0])\n",
    "        output_df = pd.concat([output_df, df], ignore_index=True)\n",
    "    return output_df"
   ]
  },
  {
   "cell_type": "code",
   "execution_count": 5,
   "id": "8dff3a64",
   "metadata": {},
   "outputs": [],
   "source": [
    "def preprocessing(filein, fileout):\n",
    "    df = pd.read_csv(filein)\n",
    "    df = df[[\"title\", \"selftext\"]]\n",
    "    df[\"text\"] = df[\"title\"] + '. ' + df[\"selftext\"]\n",
    "    df = df.drop([\"title\", \"selftext\"], axis=1)\n",
    "    output_df = pd.DataFrame(columns=[\"text\", \"label\"])\n",
    "    output_df = clean_df(df, output_df)\n",
    "    output_df.to_csv(fileout, index=False)"
   ]
  },
  {
   "cell_type": "code",
   "execution_count": 6,
   "id": "131c0e6c",
   "metadata": {},
   "outputs": [],
   "source": [
    "def preprocessing2(filein, fileout):\n",
    "    df = pd.read_csv(filein)\n",
    "    df = df[[\"title\", \"selftext\", \"state\"]]\n",
    "    df[\"text\"] = df[\"title\"] + '. ' + df[\"selftext\"]\n",
    "    df = df.rename(columns={\"state\":\"label\"})\n",
    "    df = df.drop([\"title\", \"selftext\"], axis=1)\n",
    "    output_df = pd.DataFrame(columns=[\"text\", \"label\"])\n",
    "    output_df = clean_df2(df, output_df)\n",
    "    output_df.to_csv(fileout, index=False)"
   ]
  },
  {
   "cell_type": "code",
   "execution_count": 7,
   "id": "f19c089a",
   "metadata": {},
   "outputs": [],
   "source": [
    "# suicide vs depression\n",
    "preprocessing2(\"C:\\\\Users\\\\Ahlaam\\\\Desktop\\\\EP Sem 7\\\\BTP\\\\new-data\\\\suicide_vs_depression.csv\", \"C:\\\\Users\\\\Ahlaam\\\\Desktop\\\\EP Sem 7\\\\BTP\\\\processed-data\\\\suicide_vs_depression.csv\")"
   ]
  },
  {
   "cell_type": "code",
   "execution_count": 8,
   "id": "3ce5ca0c",
   "metadata": {},
   "outputs": [],
   "source": [
    "# r/bulimia\n",
    "preprocessing(\"C:\\\\Users\\\\Ahlaam\\\\Desktop\\\\EP Sem 7\\\\BTP\\\\new-data\\\\bulimia.csv\", \"C:\\\\Users\\\\Ahlaam\\\\Desktop\\\\EP Sem 7\\\\BTP\\\\processed-data\\\\bulimia.csv\")\n",
    "\n",
    "# r/anorexia\n",
    "preprocessing(\"C:\\\\Users\\\\Ahlaam\\\\Desktop\\\\EP Sem 7\\\\BTP\\\\new-data\\\\anorexia.csv\", \"C:\\\\Users\\\\Ahlaam\\\\Desktop\\\\EP Sem 7\\\\BTP\\\\processed-data\\\\anorexia.csv\")"
   ]
  },
  {
   "cell_type": "code",
   "execution_count": 9,
   "id": "7f535863",
   "metadata": {},
   "outputs": [],
   "source": [
    "# r/eating_disorders\n",
    "preprocessing(\"C:\\\\Users\\\\Ahlaam\\\\Desktop\\\\EP Sem 7\\\\BTP\\\\new-data\\\\ED_train.csv\", \"C:\\\\Users\\\\Ahlaam\\\\Desktop\\\\EP Sem 7\\\\BTP\\\\processed-data\\\\ED_train.csv\" )\n",
    "\n",
    "# r/EDAnonymousAdults\n",
    "preprocessing(\"C:\\\\Users\\\\Ahlaam\\\\Desktop\\\\EP Sem 7\\\\BTP\\\\new-data\\\\EDanon_adults.csv\", \"C:\\\\Users\\\\Ahlaam\\\\Desktop\\\\EP Sem 7\\\\BTP\\\\processed-data\\\\EDanon_adults.csv\")"
   ]
  },
  {
   "cell_type": "code",
   "execution_count": 10,
   "id": "5bdd31b0",
   "metadata": {},
   "outputs": [],
   "source": [
    "# r/EatingDisorders \n",
    "preprocessing(\"C:\\\\Users\\\\Ahlaam\\\\Desktop\\\\EP Sem 7\\\\BTP\\\\new-data\\\\recovery\\\\EDisorders.csv\", \"C:\\\\Users\\\\Ahlaam\\\\Desktop\\\\EP Sem 7\\\\BTP\\\\processed-data\\\\recovery\\\\EDisorders.csv\")\n",
    "\n",
    "# r/AnorexiaRecovery\n",
    "preprocessing(\"C:\\\\Users\\\\Ahlaam\\\\Desktop\\\\EP Sem 7\\\\BTP\\\\new-data\\\\recovery\\\\ANRecovery.csv\", \"C:\\\\Users\\\\Ahlaam\\\\Desktop\\\\EP Sem 7\\\\BTP\\\\processed-data\\\\recovery\\\\ANRecovery.csv\")\n",
    "\n",
    "# r/BulimiaRecovery\n",
    "preprocessing(\"C:\\\\Users\\\\Ahlaam\\\\Desktop\\\\EP Sem 7\\\\BTP\\\\new-data\\\\recovery\\\\BNRecovery.csv\", \"C:\\\\Users\\\\Ahlaam\\\\Desktop\\\\EP Sem 7\\\\BTP\\\\processed-data\\\\recovery\\\\BNRecovery.csv\")\n",
    "\n",
    "# r/fuckeatingdisorders\n",
    "preprocessing(\"C:\\\\Users\\\\Ahlaam\\\\Desktop\\\\EP Sem 7\\\\BTP\\\\new-data\\\\recovery\\\\fED.csv\", \"C:\\\\Users\\\\Ahlaam\\\\Desktop\\\\EP Sem 7\\\\BTP\\\\processed-data\\\\recovery\\\\fED.csv\")\n",
    "\n",
    "\n",
    "# r/EDRecovery_public \n",
    "preprocessing(\"C:\\\\Users\\\\Ahlaam\\\\Desktop\\\\EP Sem 7\\\\BTP\\\\new-data\\\\recovery\\\\EDRecovery.csv\", \"C:\\\\Users\\\\Ahlaam\\\\Desktop\\\\EP Sem 7\\\\BTP\\\\processed-data\\\\recovery\\\\EDRecovery.csv\")"
   ]
  },
  {
   "cell_type": "code",
   "execution_count": 11,
   "id": "4315d5ba",
   "metadata": {},
   "outputs": [],
   "source": [
    "# r/CasualConversation\n",
    "preprocessing2(\"C:\\\\Users\\\\Ahlaam\\\\Desktop\\\\EP Sem 7\\\\BTP\\\\new-data\\\\control\\\\casconv.csv\", \"C:\\\\Users\\\\Ahlaam\\\\Desktop\\\\EP Sem 7\\\\BTP\\\\processed-data\\\\control\\\\casconv.csv\")"
   ]
  }
 ],
 "metadata": {
  "kernelspec": {
   "display_name": "Python 3",
   "language": "python",
   "name": "python3"
  },
  "language_info": {
   "codemirror_mode": {
    "name": "ipython",
    "version": 3
   },
   "file_extension": ".py",
   "mimetype": "text/x-python",
   "name": "python",
   "nbconvert_exporter": "python",
   "pygments_lexer": "ipython3",
   "version": "3.8.5"
  }
 },
 "nbformat": 4,
 "nbformat_minor": 5
}
