{
 "cells": [
  {
   "cell_type": "code",
   "execution_count": 1,
   "id": "2d63277c",
   "metadata": {},
   "outputs": [],
   "source": [
    "import numpy as np\n",
    "import pandas as pd"
   ]
  },
  {
   "cell_type": "markdown",
   "id": "e9aed8e4",
   "metadata": {},
   "source": [
    "### Extracting necessary columns"
   ]
  },
  {
   "cell_type": "code",
   "execution_count": 2,
   "id": "65681a4f",
   "metadata": {},
   "outputs": [],
   "source": [
    "def preprocessing(filein, fileout):\n",
    "    df = pd.read_csv(filein)\n",
    "    df = df[[\"title\", \"selftext\"]]\n",
    "    df[\"text\"] = df[\"title\"] + '. ' + df[\"selftext\"]\n",
    "    df = df.drop([\"title\", \"selftext\"], axis=1)\n",
    "    df.to_csv(fileout, index=False)"
   ]
  },
  {
   "cell_type": "code",
   "execution_count": 3,
   "id": "98a26a57",
   "metadata": {},
   "outputs": [],
   "source": [
    "def preprocessing2(filein, fileout):\n",
    "    df = pd.read_csv(filein)\n",
    "    df = df[[\"title\", \"selftext\", \"state\"]]\n",
    "    df[\"text\"] = df[\"title\"] + '. ' + df[\"selftext\"]\n",
    "    df = df.rename(columns={\"state\":\"label\"})\n",
    "    df = df.drop([\"title\", \"selftext\"], axis=1)\n",
    "    df.to_csv(fileout, index=False)"
   ]
  },
  {
   "cell_type": "code",
   "execution_count": 4,
   "id": "5c022465",
   "metadata": {},
   "outputs": [],
   "source": [
    "# suicide vs depression\n",
    "preprocessing2(\"C:\\\\Users\\\\Ahlaam\\\\Desktop\\\\EP Sem 7\\\\BTP\\\\new-data\\\\suicide_vs_depression.csv\", \"C:\\\\Users\\\\Ahlaam\\\\Desktop\\\\EP Sem 7\\\\BTP\\\\processed-data\\\\suicide_vs_depression.csv\")"
   ]
  },
  {
   "cell_type": "code",
   "execution_count": 5,
   "id": "2025a227",
   "metadata": {},
   "outputs": [],
   "source": [
    "# r/bulimia\n",
    "preprocessing(\"C:\\\\Users\\\\Ahlaam\\\\Desktop\\\\EP Sem 7\\\\BTP\\\\new-data\\\\bulimia.csv\", \"C:\\\\Users\\\\Ahlaam\\\\Desktop\\\\EP Sem 7\\\\BTP\\\\processed-data\\\\bulimia.csv\")\n",
    "\n",
    "# r/anorexia\n",
    "preprocessing(\"C:\\\\Users\\\\Ahlaam\\\\Desktop\\\\EP Sem 7\\\\BTP\\\\new-data\\\\anorexia.csv\", \"C:\\\\Users\\\\Ahlaam\\\\Desktop\\\\EP Sem 7\\\\BTP\\\\processed-data\\\\anorexia.csv\")"
   ]
  },
  {
   "cell_type": "code",
   "execution_count": 6,
   "id": "d1fcf9dd",
   "metadata": {},
   "outputs": [],
   "source": [
    "# r/eating_disorders\n",
    "preprocessing(\"C:\\\\Users\\\\Ahlaam\\\\Desktop\\\\EP Sem 7\\\\BTP\\\\new-data\\\\ED_train.csv\", \"C:\\\\Users\\\\Ahlaam\\\\Desktop\\\\EP Sem 7\\\\BTP\\\\processed-data\\\\ED_train.csv\" )\n",
    "\n",
    "# r/EDAnonymousAdults\n",
    "preprocessing(\"C:\\\\Users\\\\Ahlaam\\\\Desktop\\\\EP Sem 7\\\\BTP\\\\new-data\\\\EDanon_adults.csv\", \"C:\\\\Users\\\\Ahlaam\\\\Desktop\\\\EP Sem 7\\\\BTP\\\\processed-data\\\\EDanon_adults.csv\")"
   ]
  },
  {
   "cell_type": "code",
   "execution_count": 7,
   "id": "aa0ce428",
   "metadata": {},
   "outputs": [],
   "source": [
    "# r/EatingDisorders \n",
    "preprocessing(\"C:\\\\Users\\\\Ahlaam\\\\Desktop\\\\EP Sem 7\\\\BTP\\\\new-data\\\\recovery\\\\EDisorders.csv\", \"C:\\\\Users\\\\Ahlaam\\\\Desktop\\\\EP Sem 7\\\\BTP\\\\processed-data\\\\recovery\\\\EDisorders.csv\")\n",
    "\n",
    "# r/AnorexiaRecovery\n",
    "preprocessing(\"C:\\\\Users\\\\Ahlaam\\\\Desktop\\\\EP Sem 7\\\\BTP\\\\new-data\\\\recovery\\\\ANRecovery.csv\", \"C:\\\\Users\\\\Ahlaam\\\\Desktop\\\\EP Sem 7\\\\BTP\\\\processed-data\\\\recovery\\\\ANRecovery.csv\")\n",
    "\n",
    "# r/BulimiaRecovery\n",
    "preprocessing(\"C:\\\\Users\\\\Ahlaam\\\\Desktop\\\\EP Sem 7\\\\BTP\\\\new-data\\\\recovery\\\\BNRecovery.csv\", \"C:\\\\Users\\\\Ahlaam\\\\Desktop\\\\EP Sem 7\\\\BTP\\\\processed-data\\\\recovery\\\\BNRecovery.csv\")\n",
    "\n",
    "# r/fuckeatingdisorders\n",
    "preprocessing(\"C:\\\\Users\\\\Ahlaam\\\\Desktop\\\\EP Sem 7\\\\BTP\\\\new-data\\\\recovery\\\\fED.csv\", \"C:\\\\Users\\\\Ahlaam\\\\Desktop\\\\EP Sem 7\\\\BTP\\\\processed-data\\\\recovery\\\\fED.csv\")\n",
    "\n",
    "\n",
    "# r/EDRecovery_public \n",
    "preprocessing(\"C:\\\\Users\\\\Ahlaam\\\\Desktop\\\\EP Sem 7\\\\BTP\\\\new-data\\\\recovery\\\\EDRecovery.csv\", \"C:\\\\Users\\\\Ahlaam\\\\Desktop\\\\EP Sem 7\\\\BTP\\\\processed-data\\\\recovery\\\\EDRecovery.csv\")"
   ]
  },
  {
   "cell_type": "code",
   "execution_count": 9,
   "id": "f33f1e89",
   "metadata": {},
   "outputs": [],
   "source": [
    "# r/CasualConversation\n",
    "preprocessing2(\"C:\\\\Users\\\\Ahlaam\\\\Desktop\\\\EP Sem 7\\\\BTP\\\\new-data\\\\control\\\\casconv.csv\", \"C:\\\\Users\\\\Ahlaam\\\\Desktop\\\\EP Sem 7\\\\BTP\\\\processed-data\\\\control\\\\casconv.csv\")"
   ]
  },
  {
   "cell_type": "code",
   "execution_count": null,
   "id": "5aaf0a15",
   "metadata": {},
   "outputs": [],
   "source": []
  }
 ],
 "metadata": {
  "kernelspec": {
   "display_name": "Python 3",
   "language": "python",
   "name": "python3"
  },
  "language_info": {
   "codemirror_mode": {
    "name": "ipython",
    "version": 3
   },
   "file_extension": ".py",
   "mimetype": "text/x-python",
   "name": "python",
   "nbconvert_exporter": "python",
   "pygments_lexer": "ipython3",
   "version": "3.8.5"
  }
 },
 "nbformat": 4,
 "nbformat_minor": 5
}
