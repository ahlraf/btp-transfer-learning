{
 "cells": [
  {
   "cell_type": "code",
   "execution_count": 19,
   "id": "75fa8cd6",
   "metadata": {},
   "outputs": [],
   "source": [
    "import numpy as np\n",
    "import pandas as pd"
   ]
  },
  {
   "cell_type": "markdown",
   "id": "ceeb5a0a",
   "metadata": {},
   "source": [
    "### Fold 5"
   ]
  },
  {
   "cell_type": "code",
   "execution_count": 2,
   "id": "992a0908",
   "metadata": {},
   "outputs": [],
   "source": [
    "p_labels = [1, 0, 1, 1, 1, 1, 1, 1, 1, 1, 1, 1, 1, 1, 1, 0, 0, 0, 1, 1, 0, 1, 1, 0, 1, 1, 1, 1, 1, 1, 1, 1, 1, 1, 0, 1, 0, 1, 1, 1, 1, 1, 1, 1, 1, 1, 1, 1, 1, 0, 1, 1, 1, 1, 1, 1, 1, 1, 1, 1, 1, 1, 0, 1, 1, 1, 1, 1, 1]\n",
    "t_labels = [1, 0, 1, 0, 1, 1, 0, 1, 1, 0, 1, 1, 1, 1, 1, 0, 0, 1, 1, 1, 0, 1, 1, 0, 1, 1, 0, 1, 1, 1, 0, 1, 0, 0, 0, 1, 0, 1, 1, 1, 1, 0, 1, 1, 1, 1, 0, 1, 1, 0, 1, 1, 0, 1, 0, 1, 1, 1, 1, 1, 1, 1, 0, 0, 1, 1, 1, 0, 0]"
   ]
  },
  {
   "cell_type": "code",
   "execution_count": 10,
   "id": "dc5da947",
   "metadata": {},
   "outputs": [
    {
     "name": "stdout",
     "output_type": "stream",
     "text": [
      "4 1 0\n",
      "7 1 0\n",
      "10 1 0\n",
      "18 0 1\n",
      "27 1 0\n",
      "31 1 0\n",
      "33 1 0\n",
      "34 1 0\n",
      "42 1 0\n",
      "47 1 0\n",
      "53 1 0\n",
      "55 1 0\n",
      "64 1 0\n",
      "68 1 0\n",
      "69 1 0\n",
      "\n",
      "Count: 15\n",
      "Test length: 69\n"
     ]
    }
   ],
   "source": [
    "count = 0\n",
    "for index, (f,s) in enumerate(zip(p_labels,t_labels)):\n",
    "    if f!=s:\n",
    "        print(index+1, f, s)\n",
    "        count += 1\n",
    "        \n",
    "print(\"\\nCount:\", count)\n",
    "print(\"Test length:\", len(p_labels))"
   ]
  },
  {
   "cell_type": "markdown",
   "id": "e246dc23",
   "metadata": {},
   "source": [
    "### Avg"
   ]
  },
  {
   "cell_type": "code",
   "execution_count": 22,
   "id": "27bb6d32",
   "metadata": {},
   "outputs": [],
   "source": [
    "p1 = [1, 1, 1, 1, 1, 1, 1, 1, 1, 1, 1, 1, 1, 1, 1, 1, 1, 0, 1, 1, 1, 1, 0, 1, 1, 1, 1, 1, 1, 0, 0, 1, 1, 0, 1, 1, 0, 1, 1, 1, 1, 1, 1, 0, 1, 1, 1, 1, 1, 0, 1, 1, 1, 1, 1, 0, 1, 1, 1, 1, 1, 1, 1, 1, 1, 1, 1, 1, 1, 1]\n",
    "p2 = [1, 1, 1, 1, 1, 1, 0, 1, 1, 1, 1, 1, 1, 1, 1, 1, 1, 1, 1, 1, 1, 1, 1, 1, 1, 1, 1, 1, 1, 0, 1, 1, 1, 0, 1, 1, 1, 1, 1, 1, 1, 1, 1, 1, 0, 1, 1, 1, 1, 0, 1, 1, 1, 1, 1, 0, 1, 1, 1, 1, 1, 1, 1, 1, 1, 1, 1, 1, 1, 1]\n",
    "p3 = [1, 1, 1, 1, 1, 1, 1, 0, 1, 1, 1, 1, 1, 1, 1, 1, 1, 1, 1, 1, 1, 1, 0, 1, 1, 1, 1, 1, 1, 0, 0, 1, 1, 0, 1, 1, 0, 1, 1, 1, 1, 1, 1, 0, 0, 1, 1, 1, 0, 0, 1, 1, 1, 1, 1, 0, 1, 1, 1, 1, 1, 1, 1, 1, 1, 1, 1, 1, 1, 1]\n",
    "p4 = [1, 1, 1, 1, 1, 1, 0, 1, 1, 1, 1, 1, 1, 1, 1, 1, 1, 1, 0, 1, 1, 1, 0, 1, 1, 1, 1, 1, 1, 0, 0, 1, 1, 0, 1, 1, 0, 1, 1, 1, 1, 1, 1, 0, 0, 1, 1, 1, 0, 0, 1, 1, 1, 1, 1, 0, 1, 1, 1, 1, 1, 1, 1, 1, 1, 1, 1, 1, 1, 1]\n",
    "p5 = [1, 1, 1, 1, 1, 1, 0, 1, 1, 1, 1, 1, 1, 1, 1, 1, 1, 1, 1, 1, 1, 1, 1, 1, 1, 1, 1, 1, 1, 0, 1, 1, 1, 0, 1, 1, 1, 1, 1, 1, 1, 1, 1, 0, 0, 1, 1, 1, 1, 0, 1, 1, 1, 1, 1, 1, 1, 1, 1, 1, 1, 1, 1, 1, 1, 1, 1, 1, 1, 1]\n",
    "t = [1, 1, 1, 0, 1, 1, 0, 0, 1, 0, 1, 0, 1, 1, 1, 1, 1, 0, 0, 0, 1, 1, 0, 1, 1, 1, 0, 0, 0, 0, 0, 1, 0, 0, 1, 1, 1, 1, 1, 1, 1, 1, 1, 0, 0, 1, 1, 1, 0, 0, 1, 1, 1, 1, 1, 0, 1, 1, 1, 1, 1, 1, 1, 1, 1, 1, 1, 1, 0, 0]"
   ]
  },
  {
   "cell_type": "code",
   "execution_count": 23,
   "id": "aa89dfff",
   "metadata": {},
   "outputs": [
    {
     "name": "stdout",
     "output_type": "stream",
     "text": [
      "[1.  1.  1.  1.  1.  1.  0.4 0.8 1.  1.  1.  1.  1.  1.  1.  1.  1.  0.8\n",
      " 0.8 1.  1.  1.  0.4 1.  1.  1.  1.  1.  1.  0.  0.4 1.  1.  0.  1.  1.\n",
      " 0.4 1.  1.  1.  1.  1.  1.  0.2 0.2 1.  1.  1.  0.6 0.  1.  1.  1.  1.\n",
      " 1.  0.2 1.  1.  1.  1.  1.  1.  1.  1.  1.  1.  1.  1.  1.  1. ]\n"
     ]
    }
   ],
   "source": [
    "p = np.array([p1,p2,p3,p4,p5])\n",
    "print(np.average(p,axis=0))"
   ]
  },
  {
   "cell_type": "code",
   "execution_count": 24,
   "id": "ee78c4db",
   "metadata": {},
   "outputs": [],
   "source": [
    "p_avg = np.average(p,axis=0)\n",
    "\n",
    "for i in range(len(p_avg)):\n",
    "    if p_avg[i]>=0.5:\n",
    "        p_avg[i]=1\n",
    "    else:\n",
    "        p_avg[i]=0"
   ]
  },
  {
   "cell_type": "code",
   "execution_count": 26,
   "id": "ed00077f",
   "metadata": {},
   "outputs": [
    {
     "name": "stdout",
     "output_type": "stream",
     "text": [
      "2 \t 1 \t 1\n",
      "3 \t 1 \t 1\n",
      "4 \t 1 \t 1\n",
      "5 \t 1 \t 0\n",
      "6 \t 1 \t 1\n",
      "7 \t 1 \t 1\n",
      "8 \t 0 \t 0\n",
      "9 \t 1 \t 0\n",
      "10 \t 1 \t 1\n",
      "11 \t 1 \t 0\n",
      "12 \t 1 \t 1\n",
      "13 \t 1 \t 0\n",
      "14 \t 1 \t 1\n",
      "15 \t 1 \t 1\n",
      "16 \t 1 \t 1\n",
      "17 \t 1 \t 1\n",
      "18 \t 1 \t 1\n",
      "19 \t 1 \t 0\n",
      "20 \t 1 \t 0\n",
      "21 \t 1 \t 0\n",
      "22 \t 1 \t 1\n",
      "23 \t 1 \t 1\n",
      "24 \t 0 \t 0\n",
      "25 \t 1 \t 1\n",
      "26 \t 1 \t 1\n",
      "27 \t 1 \t 1\n",
      "28 \t 1 \t 0\n",
      "29 \t 1 \t 0\n",
      "30 \t 1 \t 0\n",
      "31 \t 0 \t 0\n",
      "32 \t 0 \t 0\n",
      "33 \t 1 \t 1\n",
      "34 \t 1 \t 0\n",
      "35 \t 0 \t 0\n",
      "36 \t 1 \t 1\n",
      "37 \t 1 \t 1\n",
      "38 \t 0 \t 1\n",
      "39 \t 1 \t 1\n",
      "40 \t 1 \t 1\n",
      "41 \t 1 \t 1\n",
      "42 \t 1 \t 1\n",
      "43 \t 1 \t 1\n",
      "44 \t 1 \t 1\n",
      "45 \t 0 \t 0\n",
      "46 \t 0 \t 0\n",
      "47 \t 1 \t 1\n",
      "48 \t 1 \t 1\n",
      "49 \t 1 \t 1\n",
      "50 \t 1 \t 0\n",
      "51 \t 0 \t 0\n",
      "52 \t 1 \t 1\n",
      "53 \t 1 \t 1\n",
      "54 \t 1 \t 1\n",
      "55 \t 1 \t 1\n",
      "56 \t 1 \t 1\n",
      "57 \t 0 \t 0\n",
      "58 \t 1 \t 1\n",
      "59 \t 1 \t 1\n",
      "60 \t 1 \t 1\n",
      "61 \t 1 \t 1\n",
      "62 \t 1 \t 1\n",
      "63 \t 1 \t 1\n",
      "64 \t 1 \t 1\n",
      "65 \t 1 \t 1\n",
      "66 \t 1 \t 1\n",
      "67 \t 1 \t 1\n",
      "68 \t 1 \t 1\n",
      "69 \t 1 \t 1\n",
      "70 \t 1 \t 0\n",
      "71 \t 1 \t 0\n"
     ]
    }
   ],
   "source": [
    "for i in range(len(p_avg)):\n",
    "    print(i+2,\"\\t\", int(p_avg[i]),\"\\t\", t[i])"
   ]
  },
  {
   "cell_type": "code",
   "execution_count": 27,
   "id": "7255f842",
   "metadata": {},
   "outputs": [
    {
     "name": "stdout",
     "output_type": "stream",
     "text": [
      "47\n",
      "60.0\n"
     ]
    }
   ],
   "source": [
    "print(sum(t))\n",
    "print(sum(p_avg))"
   ]
  },
  {
   "cell_type": "code",
   "execution_count": 11,
   "id": "cbc63ce9",
   "metadata": {},
   "outputs": [],
   "source": [
    "url_test = \"https://github.com/ahlraf/btp-transfer-learning/raw/master/experiment-9/eval_precision/test_1_predicted_labels.csv\""
   ]
  },
  {
   "cell_type": "code",
   "execution_count": 12,
   "id": "224d41ae",
   "metadata": {},
   "outputs": [
    {
     "name": "stdout",
     "output_type": "stream",
     "text": [
      "   index                                               text  plabel_1  \\\n",
      "0      1  I take lamictal and olanzapine, until recently...         1   \n",
      "1      2  I feel like I have to be the prettiest girl my...         1   \n",
      "2      3  For the last year I feel like b/p is just a re...         1   \n",
      "3      4  this probably sounds weird but i've been petri...         1   \n",
      "4      5  My life has been in a downward spiral for at l...         1   \n",
      "\n",
      "   tlabel_1  tlabel_2  Unnamed: 5 Unnamed: 6  \n",
      "0         1         1         NaN        NaN  \n",
      "1         0         0         NaN        NaN  \n",
      "2         1         0         NaN        NaN  \n",
      "3         0         0         NaN        NaN  \n",
      "4         1         1         NaN        NaN  \n"
     ]
    }
   ],
   "source": [
    "df_test = pd.read_csv(url_test, header=\"infer\", skip_blank_lines=True, encoding=\"utf-8\")\n",
    "print(df_test.head())"
   ]
  },
  {
   "cell_type": "code",
   "execution_count": 13,
   "id": "e7872081",
   "metadata": {},
   "outputs": [
    {
     "data": {
      "text/plain": [
       "70"
      ]
     },
     "execution_count": 13,
     "metadata": {},
     "output_type": "execute_result"
    }
   ],
   "source": [
    "len(df_test)"
   ]
  },
  {
   "cell_type": "code",
   "execution_count": 14,
   "id": "cd0e2449",
   "metadata": {},
   "outputs": [],
   "source": [
    "df_test_DS = df_test.loc[df_test[\"plabel_1\"]==1]"
   ]
  },
  {
   "cell_type": "code",
   "execution_count": 15,
   "id": "1b8455d3",
   "metadata": {},
   "outputs": [
    {
     "data": {
      "text/html": [
       "<div>\n",
       "<style scoped>\n",
       "    .dataframe tbody tr th:only-of-type {\n",
       "        vertical-align: middle;\n",
       "    }\n",
       "\n",
       "    .dataframe tbody tr th {\n",
       "        vertical-align: top;\n",
       "    }\n",
       "\n",
       "    .dataframe thead th {\n",
       "        text-align: right;\n",
       "    }\n",
       "</style>\n",
       "<table border=\"1\" class=\"dataframe\">\n",
       "  <thead>\n",
       "    <tr style=\"text-align: right;\">\n",
       "      <th></th>\n",
       "      <th>index</th>\n",
       "      <th>text</th>\n",
       "      <th>plabel_1</th>\n",
       "      <th>tlabel_1</th>\n",
       "      <th>tlabel_2</th>\n",
       "      <th>Unnamed: 5</th>\n",
       "      <th>Unnamed: 6</th>\n",
       "    </tr>\n",
       "  </thead>\n",
       "  <tbody>\n",
       "    <tr>\n",
       "      <th>0</th>\n",
       "      <td>1</td>\n",
       "      <td>I take lamictal and olanzapine, until recently...</td>\n",
       "      <td>1</td>\n",
       "      <td>1</td>\n",
       "      <td>1</td>\n",
       "      <td>NaN</td>\n",
       "      <td>NaN</td>\n",
       "    </tr>\n",
       "    <tr>\n",
       "      <th>1</th>\n",
       "      <td>2</td>\n",
       "      <td>I feel like I have to be the prettiest girl my...</td>\n",
       "      <td>1</td>\n",
       "      <td>0</td>\n",
       "      <td>0</td>\n",
       "      <td>NaN</td>\n",
       "      <td>NaN</td>\n",
       "    </tr>\n",
       "    <tr>\n",
       "      <th>2</th>\n",
       "      <td>3</td>\n",
       "      <td>For the last year I feel like b/p is just a re...</td>\n",
       "      <td>1</td>\n",
       "      <td>1</td>\n",
       "      <td>0</td>\n",
       "      <td>NaN</td>\n",
       "      <td>NaN</td>\n",
       "    </tr>\n",
       "    <tr>\n",
       "      <th>3</th>\n",
       "      <td>4</td>\n",
       "      <td>this probably sounds weird but i've been petri...</td>\n",
       "      <td>1</td>\n",
       "      <td>0</td>\n",
       "      <td>0</td>\n",
       "      <td>NaN</td>\n",
       "      <td>NaN</td>\n",
       "    </tr>\n",
       "    <tr>\n",
       "      <th>4</th>\n",
       "      <td>5</td>\n",
       "      <td>My life has been in a downward spiral for at l...</td>\n",
       "      <td>1</td>\n",
       "      <td>1</td>\n",
       "      <td>1</td>\n",
       "      <td>NaN</td>\n",
       "      <td>NaN</td>\n",
       "    </tr>\n",
       "    <tr>\n",
       "      <th>...</th>\n",
       "      <td>...</td>\n",
       "      <td>...</td>\n",
       "      <td>...</td>\n",
       "      <td>...</td>\n",
       "      <td>...</td>\n",
       "      <td>...</td>\n",
       "      <td>...</td>\n",
       "    </tr>\n",
       "    <tr>\n",
       "      <th>65</th>\n",
       "      <td>66</td>\n",
       "      <td>This whole thing started with trying to loose ...</td>\n",
       "      <td>1</td>\n",
       "      <td>1</td>\n",
       "      <td>1</td>\n",
       "      <td>NaN</td>\n",
       "      <td>NaN</td>\n",
       "    </tr>\n",
       "    <tr>\n",
       "      <th>66</th>\n",
       "      <td>67</td>\n",
       "      <td>I'm 35 and I just recently attempted suicide a...</td>\n",
       "      <td>1</td>\n",
       "      <td>1</td>\n",
       "      <td>1</td>\n",
       "      <td>NaN</td>\n",
       "      <td>NaN</td>\n",
       "    </tr>\n",
       "    <tr>\n",
       "      <th>67</th>\n",
       "      <td>68</td>\n",
       "      <td>I was on antipsychotics and antidepressants fo...</td>\n",
       "      <td>1</td>\n",
       "      <td>0</td>\n",
       "      <td>0</td>\n",
       "      <td>NaN</td>\n",
       "      <td>NaN</td>\n",
       "    </tr>\n",
       "    <tr>\n",
       "      <th>68</th>\n",
       "      <td>69</td>\n",
       "      <td>So to put it shorts I've been going through an...</td>\n",
       "      <td>1</td>\n",
       "      <td>0</td>\n",
       "      <td>0</td>\n",
       "      <td>NaN</td>\n",
       "      <td>a</td>\n",
       "    </tr>\n",
       "    <tr>\n",
       "      <th>69</th>\n",
       "      <td>70</td>\n",
       "      <td>I finally found something that works well to q...</td>\n",
       "      <td>1</td>\n",
       "      <td>1</td>\n",
       "      <td>0</td>\n",
       "      <td>NaN</td>\n",
       "      <td>NaN</td>\n",
       "    </tr>\n",
       "  </tbody>\n",
       "</table>\n",
       "<p>63 rows × 7 columns</p>\n",
       "</div>"
      ],
      "text/plain": [
       "    index                                               text  plabel_1  \\\n",
       "0       1  I take lamictal and olanzapine, until recently...         1   \n",
       "1       2  I feel like I have to be the prettiest girl my...         1   \n",
       "2       3  For the last year I feel like b/p is just a re...         1   \n",
       "3       4  this probably sounds weird but i've been petri...         1   \n",
       "4       5  My life has been in a downward spiral for at l...         1   \n",
       "..    ...                                                ...       ...   \n",
       "65     66  This whole thing started with trying to loose ...         1   \n",
       "66     67  I'm 35 and I just recently attempted suicide a...         1   \n",
       "67     68  I was on antipsychotics and antidepressants fo...         1   \n",
       "68     69  So to put it shorts I've been going through an...         1   \n",
       "69     70  I finally found something that works well to q...         1   \n",
       "\n",
       "    tlabel_1  tlabel_2  Unnamed: 5 Unnamed: 6  \n",
       "0          1         1         NaN        NaN  \n",
       "1          0         0         NaN        NaN  \n",
       "2          1         0         NaN        NaN  \n",
       "3          0         0         NaN        NaN  \n",
       "4          1         1         NaN        NaN  \n",
       "..       ...       ...         ...        ...  \n",
       "65         1         1         NaN        NaN  \n",
       "66         1         1         NaN        NaN  \n",
       "67         0         0         NaN        NaN  \n",
       "68         0         0         NaN          a  \n",
       "69         1         0         NaN        NaN  \n",
       "\n",
       "[63 rows x 7 columns]"
      ]
     },
     "execution_count": 15,
     "metadata": {},
     "output_type": "execute_result"
    }
   ],
   "source": [
    "df_test_DS"
   ]
  },
  {
   "cell_type": "code",
   "execution_count": 17,
   "id": "1ab9667a",
   "metadata": {},
   "outputs": [],
   "source": [
    "df_test_DS.dropna(axis=0, how=\"any\", inplace=True)\n",
    "df_test_DS.sample(frac=1).reset_index(drop=True)\n",
    "df_test_DS1 = df_test_DS[[\"text\",\"tlabel_2\"]]"
   ]
  },
  {
   "cell_type": "code",
   "execution_count": 18,
   "id": "a5096b01",
   "metadata": {},
   "outputs": [
    {
     "name": "stdout",
     "output_type": "stream",
     "text": [
      "                                                text  label\n",
      "0  I constantly have thoughts of just dying or no...      1\n",
      "1  I feel so awful all the time. Always worried a...      1\n",
      "2  People always want to talk to me when I am ups...      1\n",
      "3  I quit vomiting because I was forced to  I was...      0\n",
      "4  I take lamictal and olanzapine, until recently...      1\n"
     ]
    }
   ],
   "source": [
    "df_test_DS1 = df_test_DS1.rename(columns={\"tlabel_2\":\"label\"})\n",
    "print(df_test_DS1.head())"
   ]
  },
  {
   "cell_type": "code",
   "execution_count": null,
   "id": "f019fc34",
   "metadata": {},
   "outputs": [],
   "source": [
    "print(\"Original test count:\", df_test_DS1['label'].value_counts(normalize=False))"
   ]
  },
  {
   "cell_type": "code",
   "execution_count": null,
   "id": "1539ff9e",
   "metadata": {},
   "outputs": [],
   "source": [
    "df_test1 = df_test[[\"text\",\"tlabel\"]]\n",
    "# print(df_test1.head())\n",
    "\n",
    "df_test1 = df_test1.rename(columns={\"text_post\":\"text\",\"label_a\":\"label\"})\n",
    "print(df_test1.head())"
   ]
  }
 ],
 "metadata": {
  "kernelspec": {
   "display_name": "Python 3",
   "language": "python",
   "name": "python3"
  },
  "language_info": {
   "codemirror_mode": {
    "name": "ipython",
    "version": 3
   },
   "file_extension": ".py",
   "mimetype": "text/x-python",
   "name": "python",
   "nbconvert_exporter": "python",
   "pygments_lexer": "ipython3",
   "version": "3.8.5"
  }
 },
 "nbformat": 4,
 "nbformat_minor": 5
}
