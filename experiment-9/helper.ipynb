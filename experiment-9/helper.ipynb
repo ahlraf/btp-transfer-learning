{
 "cells": [
  {
   "cell_type": "code",
   "execution_count": 1,
   "id": "739f0f0c",
   "metadata": {},
   "outputs": [],
   "source": [
    "import numpy as np\n",
    "import pandas as pd"
   ]
  },
  {
   "cell_type": "markdown",
   "id": "3bfea167",
   "metadata": {},
   "source": [
    "### Fold 5"
   ]
  },
  {
   "cell_type": "code",
   "execution_count": 2,
   "id": "e8935f4a",
   "metadata": {},
   "outputs": [],
   "source": [
    "p_labels = [1, 0, 1, 1, 1, 1, 1, 1, 1, 1, 1, 1, 1, 1, 1, 0, 0, 0, 1, 1, 0, 1, 1, 0, 1, 1, 1, 1, 1, 1, 1, 1, 1, 1, 0, 1, 0, 1, 1, 1, 1, 1, 1, 1, 1, 1, 1, 1, 1, 0, 1, 1, 1, 1, 1, 1, 1, 1, 1, 1, 1, 1, 0, 1, 1, 1, 1, 1, 1]\n",
    "t_labels = [1, 0, 1, 0, 1, 1, 0, 1, 1, 0, 1, 1, 1, 1, 1, 0, 0, 1, 1, 1, 0, 1, 1, 0, 1, 1, 0, 1, 1, 1, 0, 1, 0, 0, 0, 1, 0, 1, 1, 1, 1, 0, 1, 1, 1, 1, 0, 1, 1, 0, 1, 1, 0, 1, 0, 1, 1, 1, 1, 1, 1, 1, 0, 0, 1, 1, 1, 0, 0]"
   ]
  },
  {
   "cell_type": "code",
   "execution_count": 10,
   "id": "bd36ca96",
   "metadata": {},
   "outputs": [
    {
     "name": "stdout",
     "output_type": "stream",
     "text": [
      "4 1 0\n",
      "7 1 0\n",
      "10 1 0\n",
      "18 0 1\n",
      "27 1 0\n",
      "31 1 0\n",
      "33 1 0\n",
      "34 1 0\n",
      "42 1 0\n",
      "47 1 0\n",
      "53 1 0\n",
      "55 1 0\n",
      "64 1 0\n",
      "68 1 0\n",
      "69 1 0\n",
      "\n",
      "Count: 15\n",
      "Test length: 69\n"
     ]
    }
   ],
   "source": [
    "count = 0\n",
    "for index, (f,s) in enumerate(zip(p_labels,t_labels)):\n",
    "    if f!=s:\n",
    "        print(index+1, f, s)\n",
    "        count += 1\n",
    "        \n",
    "print(\"\\nCount:\", count)\n",
    "print(\"Test length:\", len(p_labels))"
   ]
  },
  {
   "cell_type": "markdown",
   "id": "3363a6db",
   "metadata": {},
   "source": [
    "### Avg"
   ]
  },
  {
   "cell_type": "code",
   "execution_count": 10,
   "id": "ac3d7dd4",
   "metadata": {},
   "outputs": [],
   "source": [
    "p1 = [1, 1, 1, 1, 1, 1, 1, 1, 1, 1, 1, 1, 1, 1, 1, 0, 0, 0, 1, 1, 0, 1, 1, 1, 1, 1, 1, 1, 1, 1, 1, 1, 1, 1, 1, 1, 1, 1, 1, 1, 1, 1, 1, 1, 1, 1, 1, 1, 1, 1, 1, 1, 1, 1, 1, 1, 1, 1, 1, 1, 1, 1, 0, 1, 1, 1, 1, 1, 1]\n",
    "p2 = [1, 1, 1, 1, 1, 1, 1, 1, 1, 1, 1, 1, 1, 1, 1, 0, 0, 0, 1, 1, 0, 1, 1, 1, 1, 1, 1, 1, 1, 1, 1, 1, 1, 1, 1, 1, 0, 1, 1, 1, 1, 1, 1, 1, 1, 1, 1, 1, 1, 0, 1, 1, 1, 1, 1, 1, 1, 1, 1, 1, 1, 1, 0, 1, 1, 1, 1, 1, 1]\n",
    "p3 = [1, 1, 1, 1, 1, 1, 1, 1, 1, 1, 1, 1, 1, 1, 1, 0, 0, 0, 1, 1, 1, 1, 1, 1, 1, 1, 1, 1, 1, 1, 1, 1, 1, 0, 1, 1, 1, 1, 1, 1, 1, 1, 1, 1, 1, 1, 1, 1, 1, 0, 1, 1, 0, 1, 1, 1, 1, 1, 1, 1, 1, 1, 1, 1, 1, 1, 1, 1, 1]\n",
    "p4 = [1, 1, 1, 1, 1, 1, 1, 1, 1, 1, 1, 1, 1, 1, 1, 0, 0, 0, 1, 1, 0, 1, 1, 0, 1, 1, 1, 1, 1, 1, 1, 1, 1, 1, 1, 1, 0, 1, 1, 1, 1, 1, 1, 1, 1, 1, 1, 1, 1, 0, 1, 1, 1, 1, 0, 1, 1, 1, 1, 1, 1, 1, 1, 1, 1, 1, 1, 1, 1]\n",
    "p5 = [1, 0, 1, 1, 1, 1, 1, 1, 1, 1, 1, 1, 1, 1, 1, 0, 0, 0, 1, 1, 0, 1, 1, 0, 1, 1, 1, 1, 1, 1, 1, 1, 1, 1, 0, 1, 0, 1, 1, 1, 1, 1, 1, 1, 1, 1, 1, 1, 1, 0, 1, 1, 1, 1, 1, 1, 1, 1, 1, 1, 1, 1, 0, 1, 1, 1, 1, 1, 1]\n",
    "t = [1, 0, 1, 0, 1, 1, 0, 1, 1, 0, 1, 1, 1, 1, 1, 0, 0, 1, 1, 1, 0, 1, 1, 0, 1, 1, 0, 1, 1, 1, 0, 1, 0, 0, 0, 1, 0, 1, 1, 1, 1, 0, 1, 1, 1, 1, 0, 1, 1, 0, 1, 1, 0, 1, 0, 1, 1, 1, 1, 1, 1, 1, 0, 0, 1, 1, 1, 0, 0]"
   ]
  },
  {
   "cell_type": "code",
   "execution_count": 11,
   "id": "3c3f8e34",
   "metadata": {},
   "outputs": [
    {
     "name": "stdout",
     "output_type": "stream",
     "text": [
      "[1.  0.8 1.  1.  1.  1.  1.  1.  1.  1.  1.  1.  1.  1.  1.  0.  0.  0.\n",
      " 1.  1.  0.2 1.  1.  0.6 1.  1.  1.  1.  1.  1.  1.  1.  1.  0.8 0.8 1.\n",
      " 0.4 1.  1.  1.  1.  1.  1.  1.  1.  1.  1.  1.  1.  0.2 1.  1.  0.8 1.\n",
      " 0.8 1.  1.  1.  1.  1.  1.  1.  0.4 1.  1.  1.  1.  1.  1. ]\n"
     ]
    }
   ],
   "source": [
    "p = np.array([p1,p2,p3,p4,p5])\n",
    "print(np.average(p,axis=0))"
   ]
  },
  {
   "cell_type": "code",
   "execution_count": 13,
   "id": "45704ff7",
   "metadata": {},
   "outputs": [],
   "source": [
    "p_avg = np.average(p,axis=0)\n",
    "\n",
    "for i in range(len(p_avg)):\n",
    "    if p_avg[i]>=0.5:\n",
    "        p_avg[i]=1\n",
    "    else:\n",
    "        p_avg[i]=0"
   ]
  },
  {
   "cell_type": "code",
   "execution_count": 19,
   "id": "689cd117",
   "metadata": {},
   "outputs": [
    {
     "name": "stdout",
     "output_type": "stream",
     "text": [
      "2 1 1\n",
      "3 1 0\n",
      "4 1 1\n",
      "5 1 0\n",
      "6 1 1\n",
      "7 1 1\n",
      "8 1 0\n",
      "9 1 1\n",
      "10 1 1\n",
      "11 1 0\n",
      "12 1 1\n",
      "13 1 1\n",
      "14 1 1\n",
      "15 1 1\n",
      "16 1 1\n",
      "17 0 0\n",
      "18 0 0\n",
      "19 0 1\n",
      "20 1 1\n",
      "21 1 1\n",
      "22 0 0\n",
      "23 1 1\n",
      "24 1 1\n",
      "25 1 0\n",
      "26 1 1\n",
      "27 1 1\n",
      "28 1 0\n",
      "29 1 1\n",
      "30 1 1\n",
      "31 1 1\n",
      "32 1 0\n",
      "33 1 1\n",
      "34 1 0\n",
      "35 1 0\n",
      "36 1 0\n",
      "37 1 1\n",
      "38 0 0\n",
      "39 1 1\n",
      "40 1 1\n",
      "41 1 1\n",
      "42 1 1\n",
      "43 1 0\n",
      "44 1 1\n",
      "45 1 1\n",
      "46 1 1\n",
      "47 1 1\n",
      "48 1 0\n",
      "49 1 1\n",
      "50 1 1\n",
      "51 0 0\n",
      "52 1 1\n",
      "53 1 1\n",
      "54 1 0\n",
      "55 1 1\n",
      "56 1 0\n",
      "57 1 1\n",
      "58 1 1\n",
      "59 1 1\n",
      "60 1 1\n",
      "61 1 1\n",
      "62 1 1\n",
      "63 1 1\n",
      "64 0 0\n",
      "65 1 0\n",
      "66 1 1\n",
      "67 1 1\n",
      "68 1 1\n",
      "69 1 0\n",
      "70 1 0\n"
     ]
    }
   ],
   "source": [
    "p_old = np.average(p,axis=0)\n",
    "\n",
    "for i in range(len(p_avg)):\n",
    "    print(i+2, int(p_avg[i]), t[i])"
   ]
  },
  {
   "cell_type": "code",
   "execution_count": null,
   "id": "d5441f1d",
   "metadata": {},
   "outputs": [],
   "source": [
    "test2_df = pd.read_csv()"
   ]
  }
 ],
 "metadata": {
  "kernelspec": {
   "display_name": "Python 3",
   "language": "python",
   "name": "python3"
  },
  "language_info": {
   "codemirror_mode": {
    "name": "ipython",
    "version": 3
   },
   "file_extension": ".py",
   "mimetype": "text/x-python",
   "name": "python",
   "nbconvert_exporter": "python",
   "pygments_lexer": "ipython3",
   "version": "3.8.5"
  }
 },
 "nbformat": 4,
 "nbformat_minor": 5
}
