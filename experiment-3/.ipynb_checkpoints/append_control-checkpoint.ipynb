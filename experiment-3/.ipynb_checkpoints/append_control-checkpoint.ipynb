{
 "cells": [
  {
   "cell_type": "code",
   "execution_count": 1,
   "id": "c913aa10",
   "metadata": {},
   "outputs": [],
   "source": [
    "import pandas as pd\n",
    "import numpy as np"
   ]
  },
  {
   "cell_type": "code",
   "execution_count": 2,
   "id": "9f64cdc6",
   "metadata": {},
   "outputs": [],
   "source": [
    "url_data = \"https://github.com/ahlraf/btp-transfer-learning/blob/master/processed-data/suicide_vs_depression.csv?raw=true\"\n",
    "url_control = \"https://github.com/ahlraf/btp-transfer-learning/raw/master/processed-data/control/control.csv\"\n",
    "\n",
    "data = pd.read_csv(url_data)\n",
    "control = pd.read_csv(url_control)"
   ]
  },
  {
   "cell_type": "code",
   "execution_count": 3,
   "id": "db37cd84",
   "metadata": {},
   "outputs": [],
   "source": [
    "data[\"label\"] = [0 for _ in data[\"label\"]]\n",
    "control[\"label\"] = [1 for _ in control[\"label\"]]"
   ]
  },
  {
   "cell_type": "code",
   "execution_count": 4,
   "id": "7044306f",
   "metadata": {},
   "outputs": [
    {
     "name": "stdout",
     "output_type": "stream",
     "text": [
      "0    1954\n",
      "Name: label, dtype: int64\n"
     ]
    }
   ],
   "source": [
    "print(data[\"label\"].value_counts())"
   ]
  },
  {
   "cell_type": "code",
   "execution_count": 5,
   "id": "e5844933",
   "metadata": {},
   "outputs": [
    {
     "name": "stdout",
     "output_type": "stream",
     "text": [
      "1    808\n",
      "Name: label, dtype: int64\n"
     ]
    }
   ],
   "source": [
    "print(control[\"label\"].value_counts())"
   ]
  },
  {
   "cell_type": "code",
   "execution_count": 6,
   "id": "d45ff114",
   "metadata": {},
   "outputs": [
    {
     "name": "stdout",
     "output_type": "stream",
     "text": [
      "text     0\n",
      "label    0\n",
      "dtype: int64\n"
     ]
    }
   ],
   "source": [
    "combined_data = pd.concat([data,control], axis=0, ignore_index=True)\n",
    "(combined_data.head())\n",
    "print(combined_data.isnull().sum())"
   ]
  },
  {
   "cell_type": "code",
   "execution_count": 7,
   "id": "c29b2947",
   "metadata": {},
   "outputs": [
    {
     "name": "stdout",
     "output_type": "stream",
     "text": [
      "0    1954\n",
      "1     808\n",
      "Name: label, dtype: int64\n"
     ]
    }
   ],
   "source": [
    "print(combined_data[\"label\"].value_counts())"
   ]
  },
  {
   "cell_type": "code",
   "execution_count": 8,
   "id": "0f2cb059",
   "metadata": {},
   "outputs": [],
   "source": [
    "combined_data.to_csv(\"C:\\\\Users\\\\Ahlaam\\\\Desktop\\\\IIT-coursework\\\\EP Sem 7\\\\BTP\\\\experiment-3\\\\combined_data2.csv\", index=False)"
   ]
  }
 ],
 "metadata": {
  "kernelspec": {
   "display_name": "Python 3",
   "language": "python",
   "name": "python3"
  },
  "language_info": {
   "codemirror_mode": {
    "name": "ipython",
    "version": 3
   },
   "file_extension": ".py",
   "mimetype": "text/x-python",
   "name": "python",
   "nbconvert_exporter": "python",
   "pygments_lexer": "ipython3",
   "version": "3.8.5"
  }
 },
 "nbformat": 4,
 "nbformat_minor": 5
}
