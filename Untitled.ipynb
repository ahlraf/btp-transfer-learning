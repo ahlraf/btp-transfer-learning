{
 "cells": [
  {
   "cell_type": "code",
   "execution_count": 1,
   "id": "d0da1a26",
   "metadata": {},
   "outputs": [],
   "source": [
    "import random\n",
    "import numpy as np\n",
    "\n",
    "import matplotlib.pyplot as plt\n",
    "\n",
    "import pandas as pd\n",
    "import seaborn as sns\n",
    "from fitter import Fitter, get_common_distributions, get_distributions\n",
    "import math\n",
    "\n",
    "from numpy.random import Generator, MT19937"
   ]
  },
  {
   "cell_type": "code",
   "execution_count": 10,
   "id": "72319f3d",
   "metadata": {},
   "outputs": [],
   "source": [
    "seed = 42\n",
    "n = 100"
   ]
  },
  {
   "cell_type": "code",
   "execution_count": 24,
   "id": "a44db981",
   "metadata": {},
   "outputs": [],
   "source": [
    "rng = np.random.default_rng(seed)\n",
    "arr = rng.random((n,2))"
   ]
  },
  {
   "cell_type": "code",
   "execution_count": 12,
   "id": "a6c650cb",
   "metadata": {},
   "outputs": [],
   "source": [
    "xs = np.array([i[0] for i in arr])\n",
    "ys = np.array([i[1] for i in arr])"
   ]
  },
  {
   "cell_type": "code",
   "execution_count": 13,
   "id": "25f86841",
   "metadata": {},
   "outputs": [
    {
     "data": {
      "image/png": "[encoded data removed]",
      "text/plain": [
       "<Figure size 432x288 with 1 Axes>"
      ]
     },
     "metadata": {
      "needs_background": "light"
     },
     "output_type": "display_data"
    }
   ],
   "source": [
    "plt.scatter(xs,ys)\n",
    "plt.show()"
   ]
  },
  {
   "cell_type": "code",
   "execution_count": 14,
   "id": "ba07d8ad",
   "metadata": {},
   "outputs": [],
   "source": [
    "from scipy import interpolate"
   ]
  },
  {
   "cell_type": "code",
   "execution_count": 27,
   "id": "8adbc9b6",
   "metadata": {},
   "outputs": [],
   "source": [
    "f = interpolate.interp1d(xs,ys,fill_value='extrapolate')"
   ]
  },
  {
   "cell_type": "code",
   "execution_count": 25,
   "id": "bdfbc1a8",
   "metadata": {},
   "outputs": [
    {
     "name": "stdout",
     "output_type": "stream",
     "text": [
      "200\n"
     ]
    }
   ],
   "source": [
    "rng = np.random.default_rng(seed)\n",
    "xnew = rng.uniform(low=0.0,high=2,size=(2*n,1))\n",
    "print(len(xnew))"
   ]
  },
  {
   "cell_type": "code",
   "execution_count": 28,
   "id": "0c894cc0",
   "metadata": {},
   "outputs": [],
   "source": [
    "ynew = f(xnew)"
   ]
  },
  {
   "cell_type": "markdown",
   "id": "c055249a",
   "metadata": {},
   "source": [
    "#### Scaling"
   ]
  },
  {
   "cell_type": "code",
   "execution_count": 31,
   "id": "77d2a50b",
   "metadata": {},
   "outputs": [
    {
     "data": {
      "image/png": "[encoded data removed]",
      "text/plain": [
       "<Figure size 432x288 with 1 Axes>"
      ]
     },
     "metadata": {
      "needs_background": "light"
     },
     "output_type": "display_data"
    }
   ],
   "source": [
    "plt.scatter(xnew,ynew)\n",
    "plt.show()"
   ]
  },
  {
   "cell_type": "code",
   "execution_count": 26,
   "id": "743bfc65",
   "metadata": {},
   "outputs": [
    {
     "data": {
      "text/plain": [
       "array([[1.5479121 ],\n",
       "       [0.87775688],\n",
       "       [1.71719584],\n",
       "       [1.39473606],\n",
       "       [0.1883547 ],\n",
       "       [1.9512447 ],\n",
       "       [1.5222794 ],\n",
       "       [1.57212861],\n",
       "       [0.25622727],\n",
       "       [0.90077188],\n",
       "       [0.74159605],\n",
       "       [1.85352998],\n",
       "       [1.28773024],\n",
       "       [1.64552323],\n",
       "       [0.8868284 ],\n",
       "       [0.45447744],\n",
       "       [1.10916957],\n",
       "       [0.12763451],\n",
       "       [1.65526234],\n",
       "       [1.2633288 ],\n",
       "       [1.51617548],\n",
       "       [0.70905194],\n",
       "       [1.94139605],\n",
       "       [1.78624224],\n",
       "       [1.55676699],\n",
       "       [0.38927742],\n",
       "       [0.93344201],\n",
       "       [0.08760753],\n",
       "       [0.30857898],\n",
       "       [1.36609791],\n",
       "       [1.48952431],\n",
       "       [1.93501946],\n",
       "       [0.65165072],\n",
       "       [0.74091941],\n",
       "       [0.93911162],\n",
       "       [0.37894272],\n",
       "       [0.25984301],\n",
       "       [0.95140985],\n",
       "       [0.4538187 ],\n",
       "       [1.33962799],\n",
       "       [0.87430384],\n",
       "       [1.66535639],\n",
       "       [1.4005302 ],\n",
       "       [0.62473328],\n",
       "       [1.6645196 ],\n",
       "       [1.60952871],\n",
       "       [0.77495676],\n",
       "       [0.57665621],\n",
       "       [1.36499101],\n",
       "       [0.27950497],\n",
       "       [0.3998164 ],\n",
       "       [0.01472454],\n",
       "       [1.57384876],\n",
       "       [1.32970171],\n",
       "       [1.41033076],\n",
       "       [1.56145806],\n",
       "       [0.91783155],\n",
       "       [1.13748239],\n",
       "       [0.279594  ],\n",
       "       [0.22906015],\n",
       "       [1.33680592],\n",
       "       [0.94219241],\n",
       "       [1.13047221],\n",
       "       [1.52999771],\n",
       "       [1.26943664],\n",
       "       [1.1071588 ],\n",
       "       [1.11841432],\n",
       "       [0.6079002 ],\n",
       "       [0.06163567],\n",
       "       [0.87343478],\n",
       "       [0.42916935],\n",
       "       [0.81705729],\n",
       "       [1.70680615],\n",
       "       [0.46787897],\n",
       "       [0.11660548],\n",
       "       [0.56276778],\n",
       "       [0.58718752],\n",
       "       [1.32383303],\n",
       "       [1.1140643 ],\n",
       "       [1.56779642],\n",
       "       [1.32862708],\n",
       "       [0.81277372],\n",
       "       [1.62804077],\n",
       "       [0.33394584],\n",
       "       [0.04542415],\n",
       "       [0.18009572],\n",
       "       [1.4447187 ],\n",
       "       [0.92375446],\n",
       "       [0.32254356],\n",
       "       [1.00208955],\n",
       "       [0.30462421],\n",
       "       [1.39264075],\n",
       "       [0.89231255],\n",
       "       [0.76204245],\n",
       "       [0.60302418],\n",
       "       [1.26056519],\n",
       "       [0.72362522],\n",
       "       [0.17529984],\n",
       "       [0.2360118 ],\n",
       "       [1.92379533],\n",
       "       [1.81716138],\n",
       "       [1.39941427],\n",
       "       [0.53173992],\n",
       "       [1.93835275],\n",
       "       [1.55750181],\n",
       "       [1.43378038],\n",
       "       [0.898723  ],\n",
       "       [0.54448312],\n",
       "       [0.19278192],\n",
       "       [1.80520479],\n",
       "       [0.91155258],\n",
       "       [0.40472673],\n",
       "       [0.61191325],\n",
       "       [1.15843914],\n",
       "       [0.35354557],\n",
       "       [1.71322857],\n",
       "       [1.51703906],\n",
       "       [1.43892591],\n",
       "       [0.86418608],\n",
       "       [1.25461768],\n",
       "       [1.16819594],\n",
       "       [1.2996932 ],\n",
       "       [0.16888864],\n",
       "       [0.8316148 ],\n",
       "       [0.08322835],\n",
       "       [0.98798164],\n",
       "       [0.65972242],\n",
       "       [0.28904838],\n",
       "       [0.20680594],\n",
       "       [1.17528914],\n",
       "       [0.34118594],\n",
       "       [1.85024024],\n",
       "       [1.16212228],\n",
       "       [0.69373961],\n",
       "       [1.18183098],\n",
       "       [0.04560774],\n",
       "       [1.91711843],\n",
       "       [0.96460687],\n",
       "       [1.56547045],\n",
       "       [0.16546   ],\n",
       "       [0.97331666],\n",
       "       [0.98141399],\n",
       "       [1.87565291],\n",
       "       [1.1434561 ],\n",
       "       [0.9469788 ],\n",
       "       [0.53395133],\n",
       "       [0.66313799],\n",
       "       [1.0413448 ],\n",
       "       [0.87782292],\n",
       "       [0.04322416],\n",
       "       [1.65258385],\n",
       "       [1.79232154],\n",
       "       [0.28049818],\n",
       "       [1.10807229],\n",
       "       [0.21715148],\n",
       "       [1.34448019],\n",
       "       [0.56246757],\n",
       "       [1.31884527],\n",
       "       [1.45398923],\n",
       "       [1.53729498],\n",
       "       [0.21548189],\n",
       "       [1.83202369],\n",
       "       [0.46042798],\n",
       "       [0.07482511],\n",
       "       [1.10970494],\n",
       "       [0.74184457],\n",
       "       [1.65957949],\n",
       "       [1.61650294],\n",
       "       [0.63427779],\n",
       "       [1.90579879],\n",
       "       [0.58183568],\n",
       "       [1.03011426],\n",
       "       [0.51193018],\n",
       "       [1.87208714],\n",
       "       [0.32921564],\n",
       "       [0.08982124],\n",
       "       [0.87019412],\n",
       "       [1.98475113],\n",
       "       [1.78335453],\n",
       "       [1.49721604],\n",
       "       [1.78158498],\n",
       "       [1.78689328],\n",
       "       [1.03771672],\n",
       "       [0.6318581 ],\n",
       "       [1.54402486],\n",
       "       [1.32332253],\n",
       "       [0.74731546],\n",
       "       [0.18893334],\n",
       "       [1.49357922],\n",
       "       [0.52492103],\n",
       "       [1.8736263 ],\n",
       "       [0.48194115],\n",
       "       [0.24551586],\n",
       "       [1.66222534],\n",
       "       [0.30656863],\n",
       "       [0.35853662],\n",
       "       [1.19876558],\n",
       "       [1.74912408],\n",
       "       [0.39286933],\n",
       "       [0.62064735]])"
      ]
     },
     "execution_count": 26,
     "metadata": {},
     "output_type": "execute_result"
    }
   ],
   "source": [
    "xnew"
   ]
  },
  {
   "cell_type": "code",
   "execution_count": 15,
   "id": "453d718d",
   "metadata": {},
   "outputs": [],
   "source": [
    "scale_x = 2\n",
    "scale_y = 2"
   ]
  },
  {
   "cell_type": "code",
   "execution_count": null,
   "id": "aa95ee8d",
   "metadata": {},
   "outputs": [],
   "source": [
    "new_x = 200\n",
    "new_y = 200"
   ]
  }
 ],
 "metadata": {
  "kernelspec": {
   "display_name": "Python 3",
   "language": "python",
   "name": "python3"
  },
  "language_info": {
   "codemirror_mode": {
    "name": "ipython",
    "version": 3
   },
   "file_extension": ".py",
   "mimetype": "text/x-python",
   "name": "python",
   "nbconvert_exporter": "python",
   "pygments_lexer": "ipython3",
   "version": "3.8.5"
  }
 },
 "nbformat": 4,
 "nbformat_minor": 5
}
